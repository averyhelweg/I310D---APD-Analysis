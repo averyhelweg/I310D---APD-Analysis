{
 "cells": [
  {
   "cell_type": "markdown",
   "id": "63d2ce41",
   "metadata": {},
   "source": [
    "# Austin Police Department Crime Analysis\n",
    "\n",
    "Below we are going to analyze some data from Austin Police Department"
   ]
  },
  {
   "cell_type": "code",
   "execution_count": 40,
   "id": "9abfa1a1",
   "metadata": {},
   "outputs": [],
   "source": [
    "import pandas as pd\n",
    "import numpy as np\n",
    "import matplotlib.pyplot as plt\n",
    "import seaborn as sns\n",
    "\n",
    "df = pd.read_csv('Crime_Reports.csv',low_memory = False)"
   ]
  },
  {
   "cell_type": "markdown",
   "id": "6e17ab49",
   "metadata": {},
   "source": [
    "## I refined my data by pulling out unnessary columns "
   ]
  },
  {
   "cell_type": "code",
   "execution_count": 41,
   "id": "62ca495d",
   "metadata": {},
   "outputs": [
    {
     "data": {
      "text/html": [
       "<div>\n",
       "<style scoped>\n",
       "    .dataframe tbody tr th:only-of-type {\n",
       "        vertical-align: middle;\n",
       "    }\n",
       "\n",
       "    .dataframe tbody tr th {\n",
       "        vertical-align: top;\n",
       "    }\n",
       "\n",
       "    .dataframe thead th {\n",
       "        text-align: right;\n",
       "    }\n",
       "</style>\n",
       "<table border=\"1\" class=\"dataframe\">\n",
       "  <thead>\n",
       "    <tr style=\"text-align: right;\">\n",
       "      <th></th>\n",
       "      <th>Incident Number</th>\n",
       "      <th>Highest Offense Description</th>\n",
       "      <th>Highest Offense Code</th>\n",
       "      <th>Family Violence</th>\n",
       "      <th>Occurred Date</th>\n",
       "      <th>Location Type</th>\n",
       "      <th>Address</th>\n",
       "      <th>Zip Code</th>\n",
       "      <th>Council District</th>\n",
       "      <th>APD Sector</th>\n",
       "      <th>APD District</th>\n",
       "      <th>PRA</th>\n",
       "      <th>Clearance Status</th>\n",
       "      <th>Clearance Date</th>\n",
       "      <th>Category Description</th>\n",
       "    </tr>\n",
       "  </thead>\n",
       "  <tbody>\n",
       "    <tr>\n",
       "      <th>0</th>\n",
       "      <td>20113421783</td>\n",
       "      <td>CUSTODY ARREST TRAFFIC WARR</td>\n",
       "      <td>3722</td>\n",
       "      <td>N</td>\n",
       "      <td>12/08/2011</td>\n",
       "      <td>HWY / ROAD / ALLEY/ STREET/ SIDEWALK</td>\n",
       "      <td>2000K WOODWARD ST</td>\n",
       "      <td>78741.0</td>\n",
       "      <td>3.0</td>\n",
       "      <td>HE</td>\n",
       "      <td>2</td>\n",
       "      <td>482</td>\n",
       "      <td>C</td>\n",
       "      <td>12/14/2011</td>\n",
       "      <td>NaN</td>\n",
       "    </tr>\n",
       "    <tr>\n",
       "      <th>1</th>\n",
       "      <td>2017471291</td>\n",
       "      <td>THEFT</td>\n",
       "      <td>600</td>\n",
       "      <td>N</td>\n",
       "      <td>02/16/2017</td>\n",
       "      <td>PARKING /DROP LOT/ GARAGE</td>\n",
       "      <td>1167 AIRPORT BLVD</td>\n",
       "      <td>78721.0</td>\n",
       "      <td>1.0</td>\n",
       "      <td>CH</td>\n",
       "      <td>4</td>\n",
       "      <td>424</td>\n",
       "      <td>N</td>\n",
       "      <td>03/29/2017</td>\n",
       "      <td>Theft</td>\n",
       "    </tr>\n",
       "    <tr>\n",
       "      <th>2</th>\n",
       "      <td>2003620481173</td>\n",
       "      <td>VIOL CITY ORDINANCE - OTHER</td>\n",
       "      <td>3299</td>\n",
       "      <td>N</td>\n",
       "      <td>02/17/2003</td>\n",
       "      <td>HWY / ROAD / ALLEY/ STREET/ SIDEWALK</td>\n",
       "      <td>900 BLOCK W 9TH ST</td>\n",
       "      <td>78701.0</td>\n",
       "      <td>9.0</td>\n",
       "      <td>GE</td>\n",
       "      <td>1</td>\n",
       "      <td>373</td>\n",
       "      <td>C</td>\n",
       "      <td>NaN</td>\n",
       "      <td>NaN</td>\n",
       "    </tr>\n",
       "    <tr>\n",
       "      <th>3</th>\n",
       "      <td>20101382082</td>\n",
       "      <td>THEFT OF LICENSE PLATE</td>\n",
       "      <td>614</td>\n",
       "      <td>N</td>\n",
       "      <td>05/18/2010</td>\n",
       "      <td>HWY / ROAD / ALLEY/ STREET/ SIDEWALK</td>\n",
       "      <td>100 RADAM LN</td>\n",
       "      <td>78745.0</td>\n",
       "      <td>3.0</td>\n",
       "      <td>DA</td>\n",
       "      <td>3</td>\n",
       "      <td>491</td>\n",
       "      <td>N</td>\n",
       "      <td>05/21/2010</td>\n",
       "      <td>Theft</td>\n",
       "    </tr>\n",
       "    <tr>\n",
       "      <th>4</th>\n",
       "      <td>20045054494</td>\n",
       "      <td>BURGLARY OF COIN-OP MACHINE</td>\n",
       "      <td>602</td>\n",
       "      <td>N</td>\n",
       "      <td>11/09/2004</td>\n",
       "      <td>COMMERCIAL / OFFICE BUILDING</td>\n",
       "      <td>1601 OHLEN RD</td>\n",
       "      <td>78758.0</td>\n",
       "      <td>4.0</td>\n",
       "      <td>ED</td>\n",
       "      <td>2</td>\n",
       "      <td>249</td>\n",
       "      <td>NaN</td>\n",
       "      <td>11/11/2004</td>\n",
       "      <td>Theft</td>\n",
       "    </tr>\n",
       "  </tbody>\n",
       "</table>\n",
       "</div>"
      ],
      "text/plain": [
       "   Incident Number  Highest Offense Description  Highest Offense Code  \\\n",
       "0      20113421783  CUSTODY ARREST TRAFFIC WARR                  3722   \n",
       "1       2017471291                        THEFT                   600   \n",
       "2    2003620481173  VIOL CITY ORDINANCE - OTHER                  3299   \n",
       "3      20101382082       THEFT OF LICENSE PLATE                   614   \n",
       "4      20045054494  BURGLARY OF COIN-OP MACHINE                   602   \n",
       "\n",
       "  Family Violence Occurred Date                         Location Type  \\\n",
       "0               N    12/08/2011  HWY / ROAD / ALLEY/ STREET/ SIDEWALK   \n",
       "1               N    02/16/2017             PARKING /DROP LOT/ GARAGE   \n",
       "2               N    02/17/2003  HWY / ROAD / ALLEY/ STREET/ SIDEWALK   \n",
       "3               N    05/18/2010  HWY / ROAD / ALLEY/ STREET/ SIDEWALK   \n",
       "4               N    11/09/2004          COMMERCIAL / OFFICE BUILDING   \n",
       "\n",
       "              Address  Zip Code  Council District APD Sector APD District  \\\n",
       "0   2000K WOODWARD ST   78741.0               3.0         HE            2   \n",
       "1   1167 AIRPORT BLVD   78721.0               1.0         CH            4   \n",
       "2  900 BLOCK W 9TH ST   78701.0               9.0         GE            1   \n",
       "3        100 RADAM LN   78745.0               3.0         DA            3   \n",
       "4       1601 OHLEN RD   78758.0               4.0         ED            2   \n",
       "\n",
       "   PRA Clearance Status Clearance Date Category Description  \n",
       "0  482                C     12/14/2011                  NaN  \n",
       "1  424                N     03/29/2017                Theft  \n",
       "2  373                C            NaN                  NaN  \n",
       "3  491                N     05/21/2010                Theft  \n",
       "4  249              NaN     11/11/2004                Theft  "
      ]
     },
     "execution_count": 41,
     "metadata": {},
     "output_type": "execute_result"
    }
   ],
   "source": [
    "#This is data refining by pulling out unnessary columns\n",
    "df = df.drop(['Occurred Time','Occurred Date Time','Report Date Time','Report Date','Report Date Time','Report Time','Census Tract','UCR Category','X-coordinate','Y-coordinate','Latitude','Longitude','Location'], axis = 1)\n",
    "df.head()"
   ]
  },
  {
   "cell_type": "markdown",
   "id": "41eb4c8a",
   "metadata": {},
   "source": [
    "## I filtered the data by my two variables of interest\n",
    "I was interested in looking into the highest offense committed by each Zip Code in Austin"
   ]
  },
  {
   "cell_type": "code",
   "execution_count": 42,
   "id": "e02d3de0",
   "metadata": {},
   "outputs": [],
   "source": [
    "#Here I am filtering the data by my two variables of interest\n",
    "\n",
    "offense_zipcode = df[['Highest Offense Description','Zip Code']]"
   ]
  },
  {
   "cell_type": "markdown",
   "id": "e5d9918a",
   "metadata": {},
   "source": [
    "## I made a two way table to visualize the count of each offense per zip code"
   ]
  },
  {
   "cell_type": "code",
   "execution_count": 43,
   "id": "316ad424",
   "metadata": {},
   "outputs": [
    {
     "name": "stdout",
     "output_type": "stream",
     "text": [
      "Zip Code                        0.0      76574.0  78610.0  78612.0  78613.0  \\\n",
      "Highest Offense Description                                                   \n",
      "ABANDONED REFRIGERATOR                0        0        0        0        0   \n",
      "ABUSE OF 911                          0        0        0        0        0   \n",
      "ABUSE OF CORPSE                       0        0        0        0        0   \n",
      "ABUSE OF OFFICIAL CAPACITY            0        0        0        0        0   \n",
      "AGG ASLT ENHANC STRANGL/SUFFOC        0        0        0        0        1   \n",
      "...                                 ...      ...      ...      ...      ...   \n",
      "VOCO AMPLIFIED MUSIC/VEHICLE          0        0        1        0        0   \n",
      "VOCO SOLICITATION PROHIBIT            0        0        0        0       14   \n",
      "VOYEURISM-PEEPING TOM                 0        0        0        0        0   \n",
      "WARRANT ARREST NON TRAFFIC            0        0        2        0       50   \n",
      "WEAPON VIOL - OTHER                   0        0        1        0        0   \n",
      "\n",
      "Zip Code                        78615.0  78616.0  78617.0  78619.0  78620.0  \\\n",
      "Highest Offense Description                                                   \n",
      "ABANDONED REFRIGERATOR                0        0        1        0        0   \n",
      "ABUSE OF 911                          0        0        2        0        0   \n",
      "ABUSE OF CORPSE                       0        0        0        0        0   \n",
      "ABUSE OF OFFICIAL CAPACITY            0        0        0        0        0   \n",
      "AGG ASLT ENHANC STRANGL/SUFFOC        0        0       10        0        0   \n",
      "...                                 ...      ...      ...      ...      ...   \n",
      "VOCO AMPLIFIED MUSIC/VEHICLE          0        0        9        0        0   \n",
      "VOCO SOLICITATION PROHIBIT            0        0        7        0        0   \n",
      "VOYEURISM-PEEPING TOM                 0        0        0        0        0   \n",
      "WARRANT ARREST NON TRAFFIC            0        0      283        0        0   \n",
      "WEAPON VIOL - OTHER                   0        0        1        0        0   \n",
      "\n",
      "Zip Code                        ...  78749.0  78750.0  78751.0  78752.0  \\\n",
      "Highest Offense Description     ...                                       \n",
      "ABANDONED REFRIGERATOR          ...        0        0        0        0   \n",
      "ABUSE OF 911                    ...        1        2        1        8   \n",
      "ABUSE OF CORPSE                 ...        0        0        0        0   \n",
      "ABUSE OF OFFICIAL CAPACITY      ...        0        0        0        0   \n",
      "AGG ASLT ENHANC STRANGL/SUFFOC  ...        8        8       22       59   \n",
      "...                             ...      ...      ...      ...      ...   \n",
      "VOCO AMPLIFIED MUSIC/VEHICLE    ...       18       10       22      264   \n",
      "VOCO SOLICITATION PROHIBIT      ...      173       29      479      207   \n",
      "VOYEURISM-PEEPING TOM           ...        0        0        1        0   \n",
      "WARRANT ARREST NON TRAFFIC      ...      209      208     1180     1796   \n",
      "WEAPON VIOL - OTHER             ...        2        6        4        6   \n",
      "\n",
      "Zip Code                        78753.0  78754.0  78756.0  78757.0  78758.0  \\\n",
      "Highest Offense Description                                                   \n",
      "ABANDONED REFRIGERATOR                0        0        0        0        0   \n",
      "ABUSE OF 911                          6        2        0        1       19   \n",
      "ABUSE OF CORPSE                       0        0        0        0        0   \n",
      "ABUSE OF OFFICIAL CAPACITY            1        2        0        0        2   \n",
      "AGG ASLT ENHANC STRANGL/SUFFOC      103       13        1       23       88   \n",
      "...                                 ...      ...      ...      ...      ...   \n",
      "VOCO AMPLIFIED MUSIC/VEHICLE        354       14        7       42      336   \n",
      "VOCO SOLICITATION PROHIBIT          648       56       23       70      228   \n",
      "VOYEURISM-PEEPING TOM                 0        0        0        0        0   \n",
      "WARRANT ARREST NON TRAFFIC         2682      239      303      756     2197   \n",
      "WEAPON VIOL - OTHER                  22        3        5        3       26   \n",
      "\n",
      "Zip Code                        78759.0  \n",
      "Highest Offense Description              \n",
      "ABANDONED REFRIGERATOR                0  \n",
      "ABUSE OF 911                          7  \n",
      "ABUSE OF CORPSE                       0  \n",
      "ABUSE OF OFFICIAL CAPACITY            0  \n",
      "AGG ASLT ENHANC STRANGL/SUFFOC       15  \n",
      "...                                 ...  \n",
      "VOCO AMPLIFIED MUSIC/VEHICLE         21  \n",
      "VOCO SOLICITATION PROHIBIT          238  \n",
      "VOYEURISM-PEEPING TOM                 1  \n",
      "WARRANT ARREST NON TRAFFIC          744  \n",
      "WEAPON VIOL - OTHER                  13  \n",
      "\n",
      "[436 rows x 70 columns]\n"
     ]
    }
   ],
   "source": [
    "#Make a 2 way table to analyze the Offense per Zip code in Austin\n",
    "\n",
    "offense_zipcode_2way = pd.crosstab(offense_zipcode['Highest Offense Description'],\n",
    "                            offense_zipcode['Zip Code'], \n",
    "                               margins = False)\n",
    "print(offense_zipcode_2way)"
   ]
  },
  {
   "cell_type": "markdown",
   "id": "85443cdc",
   "metadata": {},
   "source": [
    "## I pulled out my zip code (78705) from the original dataset to observe more specific data\n",
    "So rather than observing the highest offense for all zip codes I focused on the zip code of 78705"
   ]
  },
  {
   "cell_type": "code",
   "execution_count": 44,
   "id": "23f7c3a2",
   "metadata": {},
   "outputs": [
    {
     "name": "stdout",
     "output_type": "stream",
     "text": [
      "         Incident Number Highest Offense Description  Highest Offense Code  \\\n",
      "30         2003921581497         ASSAULT WITH INJURY                   900   \n",
      "51           20141890101                PROSTITUTION                  1600   \n",
      "56           20145036148         BURGLARY OF VEHICLE                   601   \n",
      "75           20191441181                  AUTO THEFT                   700   \n",
      "233          20075066776         BURGLARY OF VEHICLE                   601   \n",
      "...                  ...                         ...                   ...   \n",
      "2393963      20228016272            THEFT OF BICYCLE                   609   \n",
      "2394059      20125053095         BURGLARY OF VEHICLE                   601   \n",
      "2394198      20228012495       BURGLARY OF RESIDENCE                   500   \n",
      "2394271      20228016262         FORGERY AND PASSING                  1000   \n",
      "2394304       2011390035                  AUTO THEFT                   700   \n",
      "\n",
      "        Family Violence Occurred Date                         Location Type  \\\n",
      "30                    N    06/07/2003                         FIELD / WOODS   \n",
      "51                    N    07/08/2014  HWY / ROAD / ALLEY/ STREET/ SIDEWALK   \n",
      "56                    N    08/14/2014             PARKING /DROP LOT/ GARAGE   \n",
      "75                    N    05/23/2019             PARKING /DROP LOT/ GARAGE   \n",
      "233                   N    12/18/2007             PARKING /DROP LOT/ GARAGE   \n",
      "...                 ...           ...                                   ...   \n",
      "2393963               N    09/04/2022                      RESIDENCE / HOME   \n",
      "2394059               N    11/29/2012                     CONVENIENCE STORE   \n",
      "2394198               N    06/21/2022                      RESIDENCE / HOME   \n",
      "2394271               N    04/21/2022                      RESIDENCE / HOME   \n",
      "2394304               N    02/06/2011             PARKING /DROP LOT/ GARAGE   \n",
      "\n",
      "                             Address  Zip Code  Council District APD Sector  \\\n",
      "30                 2300 GUADALUPE ST   78705.0               9.0         BA   \n",
      "51       N IH 35 SVRD SB / E 32ND ST   78705.0               9.0         BA   \n",
      "56                 2904 GUADALUPE ST   78705.0               9.0         BA   \n",
      "75                   1905 ROBBINS PL   78705.0               9.0         BA   \n",
      "233                    2402 PEARL ST   78705.0               9.0         BA   \n",
      "...                              ...       ...               ...        ...   \n",
      "2393963                915 W 22ND ST   78705.0               9.0         BA   \n",
      "2394059                3515 GREENWAY   78705.0               9.0         BA   \n",
      "2394198                833 E 38TH ST   78705.0               9.0         BA   \n",
      "2394271                 925 KEITH LN   78705.0               9.0         BA   \n",
      "2394304            2021 GUADALUPE ST   78705.0               9.0         BA   \n",
      "\n",
      "        APD District  PRA Clearance Status Clearance Date Category Description  \n",
      "30                 1  359                N            NaN                  NaN  \n",
      "51                 1  348                C     07/17/2014                  NaN  \n",
      "56                 3  345                N     08/20/2014                Theft  \n",
      "75                 2  358                N     07/02/2019           Auto Theft  \n",
      "233                3  356              NaN     12/19/2007                Theft  \n",
      "...              ...  ...              ...            ...                  ...  \n",
      "2393963            2  358                N     09/09/2022                Theft  \n",
      "2394059            1  348                N     11/29/2012                Theft  \n",
      "2394198            1  348                N     09/06/2022             Burglary  \n",
      "2394271            1  348              NaN            NaN                  NaN  \n",
      "2394304            1  362                C     02/08/2011           Auto Theft  \n",
      "\n",
      "[59628 rows x 15 columns]\n"
     ]
    }
   ],
   "source": [
    "#pull out the zipcode 78705 to observe more specific data\n",
    "\n",
    "zipcode78705 = df[df[\"Zip Code\"] == 78705]\n",
    "print(zipcode78705)"
   ]
  },
  {
   "cell_type": "markdown",
   "id": "08153aea",
   "metadata": {},
   "source": [
    "## I sorted the data to find the top 5 highest offenses in the zip code 78705"
   ]
  },
  {
   "cell_type": "code",
   "execution_count": 45,
   "id": "18189eab",
   "metadata": {},
   "outputs": [
    {
     "name": "stdout",
     "output_type": "stream",
     "text": [
      "     Highest Offense Description  Count\n",
      "46           BURGLARY OF VEHICLE   8957\n",
      "236                        THEFT   5749\n",
      "62             CRIMINAL MISCHIEF   5143\n",
      "247             THEFT OF BICYCLE   3768\n",
      "207          PUBLIC INTOXICATION   2656\n",
      "..                           ...    ...\n",
      "105          ESCAPE FROM CUSTODY      1\n",
      "104             ENTICING A CHILD      1\n",
      "79   DEL CONTROLLED SUB/SYN NARC      1\n",
      "78      DEL CONTROLLED SUB/OTHER      1\n",
      "0                   ABUSE OF 911      1\n",
      "\n",
      "[289 rows x 2 columns]\n"
     ]
    }
   ],
   "source": [
    "#Sort the data to find the top 5 most frequent offenses for the zip code 78705\n",
    "zipcode78705_ranked = zipcode78705.groupby(['Highest Offense Description'])['Highest Offense Description'].count().reset_index(\n",
    "  name='Count').sort_values(['Count'], ascending=False)\n",
    "print(zipcode78705_ranked)"
   ]
  },
  {
   "cell_type": "markdown",
   "id": "11cef3c0",
   "metadata": {},
   "source": [
    "## I printed a table of the top 5 most occuring offenses in zip code 78705 to better visualize the data I was working with"
   ]
  },
  {
   "cell_type": "code",
   "execution_count": 46,
   "id": "828765ad",
   "metadata": {},
   "outputs": [
    {
     "data": {
      "text/html": [
       "<div>\n",
       "<style scoped>\n",
       "    .dataframe tbody tr th:only-of-type {\n",
       "        vertical-align: middle;\n",
       "    }\n",
       "\n",
       "    .dataframe tbody tr th {\n",
       "        vertical-align: top;\n",
       "    }\n",
       "\n",
       "    .dataframe thead th {\n",
       "        text-align: right;\n",
       "    }\n",
       "</style>\n",
       "<table border=\"1\" class=\"dataframe\">\n",
       "  <thead>\n",
       "    <tr style=\"text-align: right;\">\n",
       "      <th></th>\n",
       "      <th>Highest Offense Description</th>\n",
       "      <th>Count</th>\n",
       "    </tr>\n",
       "  </thead>\n",
       "  <tbody>\n",
       "    <tr>\n",
       "      <th>46</th>\n",
       "      <td>BURGLARY OF VEHICLE</td>\n",
       "      <td>8957</td>\n",
       "    </tr>\n",
       "    <tr>\n",
       "      <th>236</th>\n",
       "      <td>THEFT</td>\n",
       "      <td>5749</td>\n",
       "    </tr>\n",
       "    <tr>\n",
       "      <th>62</th>\n",
       "      <td>CRIMINAL MISCHIEF</td>\n",
       "      <td>5143</td>\n",
       "    </tr>\n",
       "    <tr>\n",
       "      <th>247</th>\n",
       "      <td>THEFT OF BICYCLE</td>\n",
       "      <td>3768</td>\n",
       "    </tr>\n",
       "    <tr>\n",
       "      <th>207</th>\n",
       "      <td>PUBLIC INTOXICATION</td>\n",
       "      <td>2656</td>\n",
       "    </tr>\n",
       "  </tbody>\n",
       "</table>\n",
       "</div>"
      ],
      "text/plain": [
       "    Highest Offense Description  Count\n",
       "46          BURGLARY OF VEHICLE   8957\n",
       "236                       THEFT   5749\n",
       "62            CRIMINAL MISCHIEF   5143\n",
       "247            THEFT OF BICYCLE   3768\n",
       "207         PUBLIC INTOXICATION   2656"
      ]
     },
     "execution_count": 46,
     "metadata": {},
     "output_type": "execute_result"
    }
   ],
   "source": [
    "#rank the top 5 most occuring offenses in the zipcode 78705\n",
    "zipcode78705_ranked.head()"
   ]
  },
  {
   "cell_type": "markdown",
   "id": "72349719",
   "metadata": {},
   "source": [
    "## I made a new dataset with nothing but data on the cases in my zip code where the highest offense description matches to the top 5 offenses"
   ]
  },
  {
   "cell_type": "code",
   "execution_count": 47,
   "id": "acdc434d",
   "metadata": {},
   "outputs": [
    {
     "name": "stdout",
     "output_type": "stream",
     "text": [
      "    Highest Offense Description  Count\n",
      "46          BURGLARY OF VEHICLE   8957\n",
      "236                       THEFT   5749\n",
      "62            CRIMINAL MISCHIEF   5143\n",
      "247            THEFT OF BICYCLE   3768\n",
      "207         PUBLIC INTOXICATION   2656\n"
     ]
    }
   ],
   "source": [
    "#making a dataset with nothing but data on the top 5 offenses for the highest offense code\n",
    "finaltop5 = zipcode78705_ranked[zipcode78705_ranked[\"Highest Offense Description\"].isin([\"BURGLARY OF VEHICLE\",\"THEFT\", \"THEFT OF BICYCLE\",\"CRIMINAL MISCHIEF\",\"PUBLIC INTOXICATION\"])]\n",
    "print(finaltop5)"
   ]
  },
  {
   "cell_type": "markdown",
   "id": "2db31a30",
   "metadata": {},
   "source": [
    "## I made a bar graph to represent the top 5 highest offenses in my zip code"
   ]
  },
  {
   "cell_type": "code",
   "execution_count": 48,
   "id": "9990368c",
   "metadata": {},
   "outputs": [
    {
     "data": {
      "image/png": "[encoded data removed]",
      "text/plain": [
       "<Figure size 432x288 with 1 Axes>"
      ]
     },
     "metadata": {
      "needs_background": "light"
     },
     "output_type": "display_data"
    }
   ],
   "source": [
    "#Make a bar graph representing the top 5  \n",
    "top5 = finaltop5.plot.bar(x='Highest Offense Description', y='Count', ylabel='Number of incidents in Zip Code 78705')"
   ]
  },
  {
   "cell_type": "markdown",
   "id": "1411ce31",
   "metadata": {},
   "source": [
    "## I downloaded my data frame after I made a new dataset that contains nothing but data on the cases in my zip code where the highest offense description matches to the top 5 offenses\n",
    "I posted this on my repository "
   ]
  },
  {
   "cell_type": "code",
   "execution_count": 50,
   "id": "bd7ef8aa",
   "metadata": {},
   "outputs": [],
   "source": [
    "#this is my condensed dataframe I uploaded to the repository\n",
    "finaltop5.to_csv('finaltop5_apd_data_results.csv')"
   ]
  }
 ],
 "metadata": {
  "kernelspec": {
   "display_name": "Python 3 (ipykernel)",
   "language": "python",
   "name": "python3"
  },
  "language_info": {
   "codemirror_mode": {
    "name": "ipython",
    "version": 3
   },
   "file_extension": ".py",
   "mimetype": "text/x-python",
   "name": "python",
   "nbconvert_exporter": "python",
   "pygments_lexer": "ipython3",
   "version": "3.9.12"
  }
 },
 "nbformat": 4,
 "nbformat_minor": 5
}
